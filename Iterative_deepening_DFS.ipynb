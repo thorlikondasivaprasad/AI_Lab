{
 "cells": [
  {
   "cell_type": "code",
   "execution_count": 3,
   "id": "20e75709",
   "metadata": {},
   "outputs": [
    {
     "name": "stdout",
     "output_type": "stream",
     "text": [
      "Enter the root node : a\n",
      "Enter the goal node : k\n",
      "Goal node 'k' is found in the graph \n"
     ]
    }
   ],
   "source": [
    "# Iterative Deepening Depth-First Search (IDDFS) is a combination of depth-first search\n",
    "# and breadth-first search. It repeatedly performs depth-first search with increasing depth limits until the \n",
    "# goal is found. Here's a Python implementation of Iterative Deepening DFS for a graph:\n",
    "\n",
    "\n",
    "# ****************************************\n",
    "# IDDFS combines depth-first search’s space-efficiency and breadth-first search’s fast search (for nodes closer to root).\n",
    "\n",
    "def iterative_deepening(graph,root,goal):\n",
    "    max_depth=float(\"inf\")  # here depth is increasing based on goal node's depth if it is present in graph\n",
    "    \n",
    "    while True:\n",
    "        result=depth_limit_search(graph,root,goal,max_depth)\n",
    "        if root is not None:\n",
    "            return result\n",
    "        max_depth+=1\n",
    "    \n",
    "def depth_limit_search(graph,root,goal,depth_limit):\n",
    "    visit=set()\n",
    "    def dls(current,depth):\n",
    "        if current==goal:\n",
    "            return [current]\n",
    "        if depth==0:\n",
    "            return False\n",
    "        \n",
    "        visit.add(current)\n",
    "        for i in graph[current]:\n",
    "            if i not in visit:\n",
    "                path=dls(i,depth-1)\n",
    "                if path:\n",
    "                    return [current] + path\n",
    "        return False\n",
    "    return dls(root,depth_limit)\n",
    "\n",
    "\n",
    "# graph\n",
    "\n",
    "#       a\n",
    "#     /   \\\n",
    "#     b    c\n",
    "#    / \\  / \\ \n",
    "#   d   e f  g\n",
    "#  /\n",
    "# h\n",
    "\n",
    "\n",
    "graph={\n",
    "    \"a\":[\"b\",\"c\"],\n",
    "    \"b\":[\"d\",\"e\"],\n",
    "    \"c\":[\"f\",\"g\"],\n",
    "    \"d\":[\"h\"],\n",
    "    \"e\":[\"i\",\"j\"],\n",
    "    \"f\":[],\n",
    "    \"g\":[],\n",
    "    \"h\":[\"k\"],\n",
    "    \"i\":[],\n",
    "    \"j\":[],\n",
    "    \"k\":[]\n",
    "}\n",
    "root=input(\"Enter the root node : \")\n",
    "goal=input(\"Enter the goal node : \")\n",
    "# depth_limit=int(input(\"Enter the Depth_limit : \"))\n",
    "# if goal is not found w\\in graph then it is called - Stadard failure\n",
    "# if depth is exceeded then no solution so,it is called - Cut-off failure\n",
    "\n",
    "result = iterative_deepening(graph,root,goal)\n",
    "if result:\n",
    "    print(f\"Goal node '{goal}' is found in the graph \")\n",
    "else:\n",
    "    print(f\"Goal node {goal} is NOT found in the graph \")"
   ]
  },
  {
   "cell_type": "code",
   "execution_count": null,
   "id": "7d90a610",
   "metadata": {},
   "outputs": [],
   "source": []
  }
 ],
 "metadata": {
  "kernelspec": {
   "display_name": "Python 3 (ipykernel)",
   "language": "python",
   "name": "python3"
  },
  "language_info": {
   "codemirror_mode": {
    "name": "ipython",
    "version": 3
   },
   "file_extension": ".py",
   "mimetype": "text/x-python",
   "name": "python",
   "nbconvert_exporter": "python",
   "pygments_lexer": "ipython3",
   "version": "3.11.3"
  }
 },
 "nbformat": 4,
 "nbformat_minor": 5
}
