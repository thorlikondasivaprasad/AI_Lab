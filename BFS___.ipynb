{
 "cells": [
  {
   "cell_type": "code",
   "execution_count": 2,
   "id": "ae6f8ccd",
   "metadata": {},
   "outputs": [
    {
     "name": "stdout",
     "output_type": "stream",
     "text": [
      "(0, 0)\n",
      "(5, 0)\n",
      "(2, 3)\n",
      "(2, 0)\n",
      "(0, 2)\n",
      "(5, 2)\n",
      "(4, 3)\n"
     ]
    }
   ],
   "source": [
    "from collections import deque\n",
    "\n",
    "def waterJugSolverBFS(jug1, jug2, aim):\n",
    "    queue = deque([(0, 0)])\n",
    "    visited = set([(0, 0)])\n",
    "    parents = {}\n",
    "\n",
    "    while queue:\n",
    "        current_state = queue.popleft()\n",
    "        amt1, amt2 = current_state\n",
    "\n",
    "        if amt1 == aim or amt2 == aim:\n",
    "            steps = []\n",
    "            while current_state != (0, 0):\n",
    "                steps.append(current_state)\n",
    "                current_state = parents[current_state]\n",
    "            steps.append((0, 0))\n",
    "            steps.reverse()\n",
    "            return steps\n",
    "\n",
    "        next_states = [\n",
    "            (jug1, amt2),  \n",
    "            (amt1, jug2),  \n",
    "            (0, amt2),     \n",
    "            (amt1, 0),     \n",
    "            (min(jug1, amt1 + amt2), max(0, amt1 + amt2 - jug1)),  \n",
    "            (max(0, amt1 + amt2 - jug2), min(jug2, amt1 + amt2))   \n",
    "        ]\n",
    "\n",
    "        for state in next_states:\n",
    "            if state not in visited:\n",
    "                queue.append(state)\n",
    "                visited.add(state)\n",
    "                parents[state] = current_state\n",
    "\n",
    "    return None\n",
    "\n",
    "# Example usage:\n",
    "jug1_capacity = 5\n",
    "jug2_capacity = 3\n",
    "desired_quantity = 4\n",
    "\n",
    "solution = waterJugSolverBFS(jug1_capacity, jug2_capacity, desired_quantity)\n",
    "if solution:\n",
    "    for step in solution:\n",
    "        print(step)\n",
    "else:\n",
    "    print(\"No solution found.\")"
   ]
  },
  {
   "cell_type": "code",
   "execution_count": 3,
   "id": "2a9ce246",
   "metadata": {},
   "outputs": [
    {
     "name": "stdout",
     "output_type": "stream",
     "text": [
      "Solution Path:\n",
      "['A', 'C', 'E', 'G']\n"
     ]
    }
   ],
   "source": [
    "from queue import PriorityQueue\n",
    "def greedy_best_first_search(graph, start, goal):\n",
    "    visited = set()\n",
    "    pq = PriorityQueue()\n",
    "    pq.put((0, [start]))  # Include the path along with the cost\n",
    "    while not pq.empty():\n",
    "        cost, path = pq.get()  \"\"\"# Get the item with the highest priority\n",
    "                                        priority, item = pq.get()\"\"\"\n",
    "        \n",
    "        current_node = path[-1]\n",
    "        if current_node == goal:\n",
    "            return path  # Return the path if goal reached\n",
    "        if current_node not in visited:\n",
    "            visited.add(current_node)\n",
    "            for neighbor, neighbor_cost in graph[current_node].items():\n",
    "                if neighbor not in visited:\n",
    "                    new_cost = neighbor_cost\n",
    "                    new_path = path + [neighbor]\n",
    "                    pq.put((new_cost, new_path))\n",
    "    return None  # Return None if goal not reachable\n",
    "\n",
    "# Example graph representation\n",
    "graph = {\n",
    "    'A': {'B': 5, 'C': 8},\n",
    "    'B': {'D': 12},\n",
    "    'C': {'E': 6},\n",
    "    'D': {'F': 7},\n",
    "    'E': {'G': 9},\n",
    "    'F': {'G': 3}\n",
    "}\n",
    "start_node = 'A'\n",
    "goal_node = 'G'\n",
    "solution_path = greedy_best_first_search(graph, start_node, goal_node)\n",
    "if solution_path:\n",
    "    print(\"Solution Path:\")\n",
    "    print(solution_path)\n",
    "else:\n",
    "    print(\"Goal node not reachable.\")"
   ]
  },
  {
   "cell_type": "code",
   "execution_count": 5,
   "id": "6b75e325",
   "metadata": {},
   "outputs": [
    {
     "name": "stdout",
     "output_type": "stream",
     "text": [
      "enter starting node :2\n",
      "enter goal node : 8\n"
     ]
    },
    {
     "ename": "TypeError",
     "evalue": "get expected at least 1 argument, got 0",
     "output_type": "error",
     "traceback": [
      "\u001b[1;31m---------------------------------------------------------------------------\u001b[0m",
      "\u001b[1;31mTypeError\u001b[0m                                 Traceback (most recent call last)",
      "\u001b[1;32m~\\AppData\\Local\\Temp/ipykernel_5464/241004731.py\u001b[0m in \u001b[0;36m<module>\u001b[1;34m\u001b[0m\n\u001b[0;32m     25\u001b[0m \u001b[0mstart\u001b[0m\u001b[1;33m=\u001b[0m\u001b[0mint\u001b[0m\u001b[1;33m(\u001b[0m\u001b[0minput\u001b[0m\u001b[1;33m(\u001b[0m\u001b[1;34m\"enter starting node :\"\u001b[0m\u001b[1;33m)\u001b[0m\u001b[1;33m)\u001b[0m\u001b[1;33m\u001b[0m\u001b[1;33m\u001b[0m\u001b[0m\n\u001b[0;32m     26\u001b[0m \u001b[0mgoal\u001b[0m\u001b[1;33m=\u001b[0m\u001b[0mint\u001b[0m\u001b[1;33m(\u001b[0m\u001b[0minput\u001b[0m\u001b[1;33m(\u001b[0m\u001b[1;34m\"enter goal node : \"\u001b[0m\u001b[1;33m)\u001b[0m\u001b[1;33m)\u001b[0m\u001b[1;33m\u001b[0m\u001b[1;33m\u001b[0m\u001b[0m\n\u001b[1;32m---> 27\u001b[1;33m \u001b[0mbestfs\u001b[0m\u001b[1;33m(\u001b[0m\u001b[0mgraph\u001b[0m\u001b[1;33m,\u001b[0m\u001b[0mhval\u001b[0m\u001b[1;33m,\u001b[0m\u001b[0mstart\u001b[0m\u001b[1;33m,\u001b[0m\u001b[0mgoal\u001b[0m\u001b[1;33m)\u001b[0m\u001b[1;33m\u001b[0m\u001b[1;33m\u001b[0m\u001b[0m\n\u001b[0m",
      "\u001b[1;32m~\\AppData\\Local\\Temp/ipykernel_5464/241004731.py\u001b[0m in \u001b[0;36mbestfs\u001b[1;34m(graph, hval, s, g)\u001b[0m\n\u001b[0;32m     12\u001b[0m         \u001b[1;32mfor\u001b[0m \u001b[0mi\u001b[0m \u001b[1;32min\u001b[0m \u001b[0mopenl\u001b[0m\u001b[1;33m:\u001b[0m\u001b[1;33m\u001b[0m\u001b[1;33m\u001b[0m\u001b[0m\n\u001b[0;32m     13\u001b[0m             \u001b[0ml\u001b[0m\u001b[1;33m[\u001b[0m\u001b[0mi\u001b[0m\u001b[1;33m]\u001b[0m\u001b[1;33m=\u001b[0m\u001b[0mhval\u001b[0m\u001b[1;33m[\u001b[0m\u001b[0mi\u001b[0m\u001b[1;33m]\u001b[0m\u001b[1;33m\u001b[0m\u001b[1;33m\u001b[0m\u001b[0m\n\u001b[1;32m---> 14\u001b[1;33m         \u001b[0mminl\u001b[0m\u001b[1;33m=\u001b[0m\u001b[0mmin\u001b[0m\u001b[1;33m(\u001b[0m\u001b[0ml\u001b[0m\u001b[1;33m,\u001b[0m\u001b[0mkey\u001b[0m\u001b[1;33m=\u001b[0m\u001b[0ml\u001b[0m\u001b[1;33m.\u001b[0m\u001b[0mget\u001b[0m\u001b[1;33m(\u001b[0m\u001b[1;33m)\u001b[0m\u001b[1;33m)\u001b[0m\u001b[1;33m\u001b[0m\u001b[1;33m\u001b[0m\u001b[0m\n\u001b[0m\u001b[0;32m     15\u001b[0m         \u001b[1;32mif\u001b[0m\u001b[1;33m(\u001b[0m\u001b[0mminl\u001b[0m\u001b[1;33m==\u001b[0m\u001b[0mg\u001b[0m\u001b[1;33m)\u001b[0m\u001b[1;33m:\u001b[0m\u001b[1;33m\u001b[0m\u001b[1;33m\u001b[0m\u001b[0m\n\u001b[0;32m     16\u001b[0m             \u001b[0mprint\u001b[0m\u001b[1;33m(\u001b[0m\u001b[1;34m\"\\n Goal node is found\"\u001b[0m\u001b[1;33m)\u001b[0m\u001b[1;33m\u001b[0m\u001b[1;33m\u001b[0m\u001b[0m\n",
      "\u001b[1;31mTypeError\u001b[0m: get expected at least 1 argument, got 0"
     ]
    }
   ],
   "source": [
    "def bestfs(graph,hval,s,g):\n",
    "    openl,closel=[],[]\n",
    "    openl.append(s)\n",
    "    if(openl==None):\n",
    "        print(\"invalid\")\n",
    "    else:\n",
    "        minl=openl.pop()\n",
    "        closel.append(minl)\n",
    "    while(1):\n",
    "        openl=graph[minl]\n",
    "        l={}\n",
    "        for i in openl:\n",
    "            l[i]=hval[i]\n",
    "        minl=min(l,key=l.get)\n",
    "        if(minl==g):\n",
    "            print(\"\\n Goal node is found\")\n",
    "            print(\"\\n path is \",closel)\n",
    "            break\n",
    "        if minl not in closel:\n",
    "            closel.append(minl)\n",
    "            openl.clear()\n",
    "graph,hval={},{}  \n",
    "graph={1:[8],2:[1,3,4],3:[8,4,6],4:[5],8:[6,9],9:[10],6:[7,10],5:[6,7],7:[],10:[]}\n",
    "hval={1:11,2:10,3:6,4:8,5:3,6:4,7:0,8:9,9:9,10:6}\n",
    "start=int(input(\"enter starting node :\"))\n",
    "goal=int(input(\"enter goal node : \"))\n",
    "bestfs(graph,hval,start,goal)"
   ]
  },
  {
   "cell_type": "code",
   "execution_count": null,
   "id": "93406024",
   "metadata": {},
   "outputs": [],
   "source": []
  }
 ],
 "metadata": {
  "kernelspec": {
   "display_name": "Python 3 (ipykernel)",
   "language": "python",
   "name": "python3"
  },
  "language_info": {
   "codemirror_mode": {
    "name": "ipython",
    "version": 3
   },
   "file_extension": ".py",
   "mimetype": "text/x-python",
   "name": "python",
   "nbconvert_exporter": "python",
   "pygments_lexer": "ipython3",
   "version": "3.9.7"
  }
 },
 "nbformat": 4,
 "nbformat_minor": 5
}
