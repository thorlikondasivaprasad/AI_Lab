{
 "cells": [
  {
   "cell_type": "code",
   "execution_count": null,
   "id": "693912f7",
   "metadata": {},
   "outputs": [],
   "source": [
    "\n",
    "def depth_limit_search(graph,root,goal,depth_limit):\n",
    "    visit=set()\n",
    "    def dls(current,depth):\n",
    "        if current==goal:\n",
    "            return True\n",
    "        if depth==0:\n",
    "            return False\n",
    "    \n",
    "        visit.add(current)\n",
    "        for i in graph[current]:\n",
    "            if i not in visit:\n",
    "                if dls(i,depth-1):\n",
    "                    return True\n",
    "        return False\n",
    "    return dls(root,depth_limit)\n",
    "\n",
    "# graph\n",
    "\n",
    "#       a\n",
    "#     /   \\\n",
    "#     b    c\n",
    "#    / \\  / \\ \n",
    "#   d   e f  g\n",
    "#  /\n",
    "# h\n",
    "\n",
    "graph={\n",
    "    \"a\":[\"b\",\"c\"],\n",
    "    \"b\":[\"d\",\"e\"],\n",
    "    \"c\":[\"f\",\"g\"],\n",
    "    \"d\":[\"h\"],\n",
    "    \"e\":[],\n",
    "    \"f\":[],\n",
    "    \"g\":[],\n",
    "    \"h\":[]\n",
    "}\n",
    "root=input(\"Enter the root node : \")\n",
    "goal=input(\"Enter the goal node : \")\n",
    "depth_limit=int(input(\"Enter the Depth_limit : \"))\n",
    "# if goal is not found w\\in graph then it is called - Stadard failure\n",
    "# if depth is exceeded then no solution so,it is called - Cut-off failure\n",
    "\n",
    "result = depth_limit_search(graph,root,goal,depth_limit)\n",
    "if result:\n",
    "    print(f\"Goal node '{goal}' is found in the graph \")\n",
    "else:\n",
    "    print(f\"Goal node {goal} is NOT found in the graph \")"
   ]
  },
  {
   "cell_type": "code",
   "execution_count": null,
   "id": "dfe282f2",
   "metadata": {},
   "outputs": [],
   "source": []
  }
 ],
 "metadata": {
  "kernelspec": {
   "display_name": "Python 3 (ipykernel)",
   "language": "python",
   "name": "python3"
  },
  "language_info": {
   "codemirror_mode": {
    "name": "ipython",
    "version": 3
   },
   "file_extension": ".py",
   "mimetype": "text/x-python",
   "name": "python",
   "nbconvert_exporter": "python",
   "pygments_lexer": "ipython3",
   "version": "3.11.3"
  }
 },
 "nbformat": 4,
 "nbformat_minor": 5
}
